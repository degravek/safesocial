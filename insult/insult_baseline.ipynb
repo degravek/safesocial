{
 "cells": [
  {
   "cell_type": "code",
   "execution_count": 1,
   "metadata": {
    "collapsed": true
   },
   "outputs": [],
   "source": [
    "from sklearn.feature_extraction.text import TfidfVectorizer\n",
    "from sklearn.feature_extraction.text import CountVectorizer\n",
    "from sklearn.base import BaseEstimator, TransformerMixin\n",
    "from sklearn.metrics import auc, precision_recall_curve\n",
    "from sklearn.calibration import CalibratedClassifierCV\n",
    "from sklearn.model_selection import train_test_split\n",
    "from sklearn.pipeline import Pipeline, FeatureUnion\n",
    "from sklearn.linear_model import LogisticRegression\n",
    "from sklearn.linear_model import SGDClassifier\n",
    "from sklearn.preprocessing import StandardScaler\n",
    "from sklearn.model_selection import GridSearchCV\n",
    "from sklearn.metrics import confusion_matrix\n",
    "from sklearn.metrics import accuracy_score\n",
    "from sklearn.metrics import roc_auc_score\n",
    "from sklearn.metrics import roc_curve\n",
    "from nltk.corpus import stopwords\n",
    "from scipy import sparse\n",
    "import seaborn as sns\n",
    "import pandas as pd\n",
    "import numpy as np\n",
    "import _pickle as cPickle\n",
    "import emoji\n",
    "import nltk\n",
    "import re\n",
    "\n",
    "import matplotlib.pyplot as mp\n",
    "%matplotlib inline\n",
    "\n",
    "import warnings\n",
    "warnings.filterwarnings(\"ignore\")\n",
    "\n",
    "from insultFunctions import *\n",
    "\n",
    "#-----Read in data-----#\n",
    "annotations = pd.read_csv('/Users/degravek/DataScience/SafeSocial/data/perspectives/' + \\\n",
    "                                                    'attack_annotations.tsv', sep='\\t')\n",
    "labels = annotations.groupby('rev_id')['attack'].mean()\n",
    "\n",
    "df = pd.read_csv('/Users/degravek/DataScience/SafeSocial/data/perspectives/' + \\\n",
    "                                                'attack_annotated_comments.tsv', sep='\\t')\n",
    "df['attack'] = labels.values\n",
    "df.loc[df['attack'] > 0.5, 'attack'] = 1\n",
    "df.loc[df['attack'] <= 0.5, 'attack'] = 0\n",
    "\n",
    "df = df[['comment', 'attack','split']]"
   ]
  },
  {
   "cell_type": "code",
   "execution_count": 2,
   "metadata": {
    "collapsed": true
   },
   "outputs": [],
   "source": [
    "df['comment'] = df['comment'].apply(preProcess)\n",
    "\n",
    "df = df[df['comment'] != '']\n",
    "\n",
    "#df['numExcQue'] = df['comment'].apply(numExcQue)\n",
    "#df['ratioCaps'] = df['comment'].apply(ratioCaps)\n",
    "#df['textPro'] = df['comment'].apply(replaceYou)\n",
    "#df['textPro'] = df['textPro'].apply(replaceBad)\n",
    "#df['textPro'] = df['textPro'].apply(replaceCont)\n",
    "df['textPro'] = df['comment'].apply(replaceMultPunc)\n",
    "df['textPro'] = df['textPro'].apply(processTextInsult)\n",
    "\n",
    "df = df[df['comment'] != '']\n",
    "\n",
    "#df['numDirect'] = df['textPro'].apply(numDirect)\n",
    "#df['ratioBadWords'] = df['textPro'].apply(ratioBadWords)"
   ]
  },
  {
   "cell_type": "code",
   "execution_count": 84,
   "metadata": {},
   "outputs": [
    {
     "data": {
      "text/html": [
       "<div>\n",
       "<style>\n",
       "    .dataframe thead tr:only-child th {\n",
       "        text-align: right;\n",
       "    }\n",
       "\n",
       "    .dataframe thead th {\n",
       "        text-align: left;\n",
       "    }\n",
       "\n",
       "    .dataframe tbody tr th {\n",
       "        vertical-align: top;\n",
       "    }\n",
       "</style>\n",
       "<table border=\"1\" class=\"dataframe\">\n",
       "  <thead>\n",
       "    <tr style=\"text-align: right;\">\n",
       "      <th></th>\n",
       "      <th>comment</th>\n",
       "      <th>attack</th>\n",
       "      <th>split</th>\n",
       "      <th>textPro</th>\n",
       "    </tr>\n",
       "  </thead>\n",
       "  <tbody>\n",
       "    <tr>\n",
       "      <th>0</th>\n",
       "      <td>`- this is not ``creative``. those are the dic...</td>\n",
       "      <td>0.0</td>\n",
       "      <td>train</td>\n",
       "      <td>this is not creative those are the dictionary ...</td>\n",
       "    </tr>\n",
       "    <tr>\n",
       "      <th>1</th>\n",
       "      <td>` :: the term ``standard model`` is itself les...</td>\n",
       "      <td>0.0</td>\n",
       "      <td>train</td>\n",
       "      <td>the term standard model is itself less npov th...</td>\n",
       "    </tr>\n",
       "    <tr>\n",
       "      <th>2</th>\n",
       "      <td>true or false, the situation as of march 2002 ...</td>\n",
       "      <td>0.0</td>\n",
       "      <td>train</td>\n",
       "      <td>true or false the situation as of march 2002 w...</td>\n",
       "    </tr>\n",
       "    <tr>\n",
       "      <th>3</th>\n",
       "      <td>next, maybe you could work on being less conde...</td>\n",
       "      <td>0.0</td>\n",
       "      <td>dev</td>\n",
       "      <td>next maybe you could work on being less condes...</td>\n",
       "    </tr>\n",
       "    <tr>\n",
       "      <th>4</th>\n",
       "      <td>this page will need disambiguation.</td>\n",
       "      <td>0.0</td>\n",
       "      <td>train</td>\n",
       "      <td>this page will need disambiguation</td>\n",
       "    </tr>\n",
       "  </tbody>\n",
       "</table>\n",
       "</div>"
      ],
      "text/plain": [
       "                                             comment  attack  split  \\\n",
       "0  `- this is not ``creative``. those are the dic...     0.0  train   \n",
       "1  ` :: the term ``standard model`` is itself les...     0.0  train   \n",
       "2  true or false, the situation as of march 2002 ...     0.0  train   \n",
       "3  next, maybe you could work on being less conde...     0.0    dev   \n",
       "4                this page will need disambiguation.     0.0  train   \n",
       "\n",
       "                                             textPro  \n",
       "0  this is not creative those are the dictionary ...  \n",
       "1  the term standard model is itself less npov th...  \n",
       "2  true or false the situation as of march 2002 w...  \n",
       "3  next maybe you could work on being less condes...  \n",
       "4                 this page will need disambiguation  "
      ]
     },
     "execution_count": 84,
     "metadata": {},
     "output_type": "execute_result"
    }
   ],
   "source": [
    "df.head()"
   ]
  },
  {
   "cell_type": "code",
   "execution_count": 3,
   "metadata": {
    "collapsed": true
   },
   "outputs": [],
   "source": [
    "df = df.sample(frac=1, random_state=0)\n",
    "\n",
    "df_train = df[df['attack']==1][:10000].append(df[df['attack']==0][:10000])\n",
    "df_test = df[df['attack']==1][10000:].append(df[df['attack']==0][10000:])\n",
    "\n",
    "y_train = df_train['attack'].values\n",
    "y_test = df_test['attack'].values\n",
    "\n",
    "df_train.drop(['attack','split'], axis=1, inplace=True)\n",
    "df_test.drop(['attack','split'], axis=1, inplace=True)\n",
    "\n",
    "df_train.reset_index(drop=True, inplace=True)\n",
    "df_test.reset_index(drop=True, inplace=True)\n",
    "\n",
    "class ItemSelector(BaseEstimator, TransformerMixin):\n",
    "    def __init__(self, key):\n",
    "        self.key = key\n",
    "\n",
    "    def fit(self, x, y=None):\n",
    "        return self\n",
    "\n",
    "    def transform(self, data_dict):\n",
    "        return data_dict[self.key]"
   ]
  },
  {
   "cell_type": "code",
   "execution_count": 4,
   "metadata": {
    "scrolled": true
   },
   "outputs": [
    {
     "name": "stdout",
     "output_type": "stream",
     "text": [
      "Fitting 5 folds for each of 32 candidates, totalling 160 fits\n",
      "[CV] clf__penalty=l2, tvec__analyzer=word, tvec__max_features=500, tvec__ngram_range=(1, 1), tvec__stop_words=english, tvec__use_idf=True \n",
      "[CV]  clf__penalty=l2, tvec__analyzer=word, tvec__max_features=500, tvec__ngram_range=(1, 1), tvec__stop_words=english, tvec__use_idf=True, score=0.82325, total=   2.3s\n",
      "[CV] clf__penalty=l2, tvec__analyzer=word, tvec__max_features=500, tvec__ngram_range=(1, 1), tvec__stop_words=english, tvec__use_idf=True \n"
     ]
    },
    {
     "name": "stderr",
     "output_type": "stream",
     "text": [
      "[Parallel(n_jobs=1)]: Done   1 out of   1 | elapsed:    3.0s remaining:    0.0s\n"
     ]
    },
    {
     "name": "stdout",
     "output_type": "stream",
     "text": [
      "[CV]  clf__penalty=l2, tvec__analyzer=word, tvec__max_features=500, tvec__ngram_range=(1, 1), tvec__stop_words=english, tvec__use_idf=True, score=0.827, total=   2.3s\n",
      "[CV] clf__penalty=l2, tvec__analyzer=word, tvec__max_features=500, tvec__ngram_range=(1, 1), tvec__stop_words=english, tvec__use_idf=True \n"
     ]
    },
    {
     "name": "stderr",
     "output_type": "stream",
     "text": [
      "[Parallel(n_jobs=1)]: Done   2 out of   2 | elapsed:    6.1s remaining:    0.0s\n"
     ]
    },
    {
     "name": "stdout",
     "output_type": "stream",
     "text": [
      "[CV]  clf__penalty=l2, tvec__analyzer=word, tvec__max_features=500, tvec__ngram_range=(1, 1), tvec__stop_words=english, tvec__use_idf=True, score=0.82575, total=   2.2s\n",
      "[CV] clf__penalty=l2, tvec__analyzer=word, tvec__max_features=500, tvec__ngram_range=(1, 1), tvec__stop_words=english, tvec__use_idf=True \n"
     ]
    },
    {
     "name": "stderr",
     "output_type": "stream",
     "text": [
      "[Parallel(n_jobs=1)]: Done   3 out of   3 | elapsed:    9.3s remaining:    0.0s\n"
     ]
    },
    {
     "name": "stdout",
     "output_type": "stream",
     "text": [
      "[CV]  clf__penalty=l2, tvec__analyzer=word, tvec__max_features=500, tvec__ngram_range=(1, 1), tvec__stop_words=english, tvec__use_idf=True, score=0.82825, total=   2.4s\n",
      "[CV] clf__penalty=l2, tvec__analyzer=word, tvec__max_features=500, tvec__ngram_range=(1, 1), tvec__stop_words=english, tvec__use_idf=True \n"
     ]
    },
    {
     "name": "stderr",
     "output_type": "stream",
     "text": [
      "[Parallel(n_jobs=1)]: Done   4 out of   4 | elapsed:   12.4s remaining:    0.0s\n"
     ]
    },
    {
     "name": "stdout",
     "output_type": "stream",
     "text": [
      "[CV]  clf__penalty=l2, tvec__analyzer=word, tvec__max_features=500, tvec__ngram_range=(1, 1), tvec__stop_words=english, tvec__use_idf=True, score=0.8205, total=   3.4s\n",
      "[CV] clf__penalty=l2, tvec__analyzer=word, tvec__max_features=500, tvec__ngram_range=(1, 1), tvec__stop_words=english, tvec__use_idf=False \n",
      "[CV]  clf__penalty=l2, tvec__analyzer=word, tvec__max_features=500, tvec__ngram_range=(1, 1), tvec__stop_words=english, tvec__use_idf=False, score=0.82275, total=   2.3s\n",
      "[CV] clf__penalty=l2, tvec__analyzer=word, tvec__max_features=500, tvec__ngram_range=(1, 1), tvec__stop_words=english, tvec__use_idf=False \n",
      "[CV]  clf__penalty=l2, tvec__analyzer=word, tvec__max_features=500, tvec__ngram_range=(1, 1), tvec__stop_words=english, tvec__use_idf=False, score=0.82725, total=   2.2s\n",
      "[CV] clf__penalty=l2, tvec__analyzer=word, tvec__max_features=500, tvec__ngram_range=(1, 1), tvec__stop_words=english, tvec__use_idf=False \n",
      "[CV]  clf__penalty=l2, tvec__analyzer=word, tvec__max_features=500, tvec__ngram_range=(1, 1), tvec__stop_words=english, tvec__use_idf=False, score=0.824, total=   2.0s\n",
      "[CV] clf__penalty=l2, tvec__analyzer=word, tvec__max_features=500, tvec__ngram_range=(1, 1), tvec__stop_words=english, tvec__use_idf=False \n",
      "[CV]  clf__penalty=l2, tvec__analyzer=word, tvec__max_features=500, tvec__ngram_range=(1, 1), tvec__stop_words=english, tvec__use_idf=False, score=0.82725, total=   2.2s\n",
      "[CV] clf__penalty=l2, tvec__analyzer=word, tvec__max_features=500, tvec__ngram_range=(1, 1), tvec__stop_words=english, tvec__use_idf=False \n",
      "[CV]  clf__penalty=l2, tvec__analyzer=word, tvec__max_features=500, tvec__ngram_range=(1, 1), tvec__stop_words=english, tvec__use_idf=False, score=0.82125, total=   2.5s\n",
      "[CV] clf__penalty=l2, tvec__analyzer=word, tvec__max_features=500, tvec__ngram_range=(1, 1), tvec__stop_words=None, tvec__use_idf=True \n",
      "[CV]  clf__penalty=l2, tvec__analyzer=word, tvec__max_features=500, tvec__ngram_range=(1, 1), tvec__stop_words=None, tvec__use_idf=True, score=0.8555, total=   2.7s\n",
      "[CV] clf__penalty=l2, tvec__analyzer=word, tvec__max_features=500, tvec__ngram_range=(1, 1), tvec__stop_words=None, tvec__use_idf=True \n",
      "[CV]  clf__penalty=l2, tvec__analyzer=word, tvec__max_features=500, tvec__ngram_range=(1, 1), tvec__stop_words=None, tvec__use_idf=True, score=0.8455, total=   3.8s\n",
      "[CV] clf__penalty=l2, tvec__analyzer=word, tvec__max_features=500, tvec__ngram_range=(1, 1), tvec__stop_words=None, tvec__use_idf=True \n",
      "[CV]  clf__penalty=l2, tvec__analyzer=word, tvec__max_features=500, tvec__ngram_range=(1, 1), tvec__stop_words=None, tvec__use_idf=True, score=0.84325, total=   3.5s\n",
      "[CV] clf__penalty=l2, tvec__analyzer=word, tvec__max_features=500, tvec__ngram_range=(1, 1), tvec__stop_words=None, tvec__use_idf=True \n",
      "[CV]  clf__penalty=l2, tvec__analyzer=word, tvec__max_features=500, tvec__ngram_range=(1, 1), tvec__stop_words=None, tvec__use_idf=True, score=0.838, total=   3.3s\n",
      "[CV] clf__penalty=l2, tvec__analyzer=word, tvec__max_features=500, tvec__ngram_range=(1, 1), tvec__stop_words=None, tvec__use_idf=True \n",
      "[CV]  clf__penalty=l2, tvec__analyzer=word, tvec__max_features=500, tvec__ngram_range=(1, 1), tvec__stop_words=None, tvec__use_idf=True, score=0.83925, total=   4.2s\n",
      "[CV] clf__penalty=l2, tvec__analyzer=word, tvec__max_features=500, tvec__ngram_range=(1, 1), tvec__stop_words=None, tvec__use_idf=False \n",
      "[CV]  clf__penalty=l2, tvec__analyzer=word, tvec__max_features=500, tvec__ngram_range=(1, 1), tvec__stop_words=None, tvec__use_idf=False, score=0.85775, total=   3.2s\n",
      "[CV] clf__penalty=l2, tvec__analyzer=word, tvec__max_features=500, tvec__ngram_range=(1, 1), tvec__stop_words=None, tvec__use_idf=False \n",
      "[CV]  clf__penalty=l2, tvec__analyzer=word, tvec__max_features=500, tvec__ngram_range=(1, 1), tvec__stop_words=None, tvec__use_idf=False, score=0.8335, total=   2.5s\n",
      "[CV] clf__penalty=l2, tvec__analyzer=word, tvec__max_features=500, tvec__ngram_range=(1, 1), tvec__stop_words=None, tvec__use_idf=False \n",
      "[CV]  clf__penalty=l2, tvec__analyzer=word, tvec__max_features=500, tvec__ngram_range=(1, 1), tvec__stop_words=None, tvec__use_idf=False, score=0.83775, total=   2.8s\n",
      "[CV] clf__penalty=l2, tvec__analyzer=word, tvec__max_features=500, tvec__ngram_range=(1, 1), tvec__stop_words=None, tvec__use_idf=False \n",
      "[CV]  clf__penalty=l2, tvec__analyzer=word, tvec__max_features=500, tvec__ngram_range=(1, 1), tvec__stop_words=None, tvec__use_idf=False, score=0.838, total=   3.9s\n",
      "[CV] clf__penalty=l2, tvec__analyzer=word, tvec__max_features=500, tvec__ngram_range=(1, 1), tvec__stop_words=None, tvec__use_idf=False \n",
      "[CV]  clf__penalty=l2, tvec__analyzer=word, tvec__max_features=500, tvec__ngram_range=(1, 1), tvec__stop_words=None, tvec__use_idf=False, score=0.8385, total=   3.0s\n",
      "[CV] clf__penalty=l2, tvec__analyzer=word, tvec__max_features=500, tvec__ngram_range=(3, 3), tvec__stop_words=english, tvec__use_idf=True \n",
      "[CV]  clf__penalty=l2, tvec__analyzer=word, tvec__max_features=500, tvec__ngram_range=(3, 3), tvec__stop_words=english, tvec__use_idf=True, score=0.50775, total=   3.0s\n",
      "[CV] clf__penalty=l2, tvec__analyzer=word, tvec__max_features=500, tvec__ngram_range=(3, 3), tvec__stop_words=english, tvec__use_idf=True \n",
      "[CV]  clf__penalty=l2, tvec__analyzer=word, tvec__max_features=500, tvec__ngram_range=(3, 3), tvec__stop_words=english, tvec__use_idf=True, score=0.507, total=   2.9s\n",
      "[CV] clf__penalty=l2, tvec__analyzer=word, tvec__max_features=500, tvec__ngram_range=(3, 3), tvec__stop_words=english, tvec__use_idf=True \n",
      "[CV]  clf__penalty=l2, tvec__analyzer=word, tvec__max_features=500, tvec__ngram_range=(3, 3), tvec__stop_words=english, tvec__use_idf=True, score=0.50775, total=   2.7s\n",
      "[CV] clf__penalty=l2, tvec__analyzer=word, tvec__max_features=500, tvec__ngram_range=(3, 3), tvec__stop_words=english, tvec__use_idf=True \n",
      "[CV]  clf__penalty=l2, tvec__analyzer=word, tvec__max_features=500, tvec__ngram_range=(3, 3), tvec__stop_words=english, tvec__use_idf=True, score=0.509, total=   2.8s\n",
      "[CV] clf__penalty=l2, tvec__analyzer=word, tvec__max_features=500, tvec__ngram_range=(3, 3), tvec__stop_words=english, tvec__use_idf=True \n",
      "[CV]  clf__penalty=l2, tvec__analyzer=word, tvec__max_features=500, tvec__ngram_range=(3, 3), tvec__stop_words=english, tvec__use_idf=True, score=0.5075, total=   2.6s\n",
      "[CV] clf__penalty=l2, tvec__analyzer=word, tvec__max_features=500, tvec__ngram_range=(3, 3), tvec__stop_words=english, tvec__use_idf=False \n",
      "[CV]  clf__penalty=l2, tvec__analyzer=word, tvec__max_features=500, tvec__ngram_range=(3, 3), tvec__stop_words=english, tvec__use_idf=False, score=0.508, total=   2.7s\n",
      "[CV] clf__penalty=l2, tvec__analyzer=word, tvec__max_features=500, tvec__ngram_range=(3, 3), tvec__stop_words=english, tvec__use_idf=False \n",
      "[CV]  clf__penalty=l2, tvec__analyzer=word, tvec__max_features=500, tvec__ngram_range=(3, 3), tvec__stop_words=english, tvec__use_idf=False, score=0.507, total=   2.8s\n",
      "[CV] clf__penalty=l2, tvec__analyzer=word, tvec__max_features=500, tvec__ngram_range=(3, 3), tvec__stop_words=english, tvec__use_idf=False \n",
      "[CV]  clf__penalty=l2, tvec__analyzer=word, tvec__max_features=500, tvec__ngram_range=(3, 3), tvec__stop_words=english, tvec__use_idf=False, score=0.508, total=   2.9s\n",
      "[CV] clf__penalty=l2, tvec__analyzer=word, tvec__max_features=500, tvec__ngram_range=(3, 3), tvec__stop_words=english, tvec__use_idf=False \n",
      "[CV]  clf__penalty=l2, tvec__analyzer=word, tvec__max_features=500, tvec__ngram_range=(3, 3), tvec__stop_words=english, tvec__use_idf=False, score=0.50875, total=   2.6s\n",
      "[CV] clf__penalty=l2, tvec__analyzer=word, tvec__max_features=500, tvec__ngram_range=(3, 3), tvec__stop_words=english, tvec__use_idf=False \n",
      "[CV]  clf__penalty=l2, tvec__analyzer=word, tvec__max_features=500, tvec__ngram_range=(3, 3), tvec__stop_words=english, tvec__use_idf=False, score=0.508, total=   2.8s\n",
      "[CV] clf__penalty=l2, tvec__analyzer=word, tvec__max_features=500, tvec__ngram_range=(3, 3), tvec__stop_words=None, tvec__use_idf=True \n",
      "[CV]  clf__penalty=l2, tvec__analyzer=word, tvec__max_features=500, tvec__ngram_range=(3, 3), tvec__stop_words=None, tvec__use_idf=True, score=0.59625, total=   4.7s\n",
      "[CV] clf__penalty=l2, tvec__analyzer=word, tvec__max_features=500, tvec__ngram_range=(3, 3), tvec__stop_words=None, tvec__use_idf=True \n"
     ]
    },
    {
     "name": "stdout",
     "output_type": "stream",
     "text": [
      "[CV]  clf__penalty=l2, tvec__analyzer=word, tvec__max_features=500, tvec__ngram_range=(3, 3), tvec__stop_words=None, tvec__use_idf=True, score=0.58475, total=   4.7s\n",
      "[CV] clf__penalty=l2, tvec__analyzer=word, tvec__max_features=500, tvec__ngram_range=(3, 3), tvec__stop_words=None, tvec__use_idf=True \n",
      "[CV]  clf__penalty=l2, tvec__analyzer=word, tvec__max_features=500, tvec__ngram_range=(3, 3), tvec__stop_words=None, tvec__use_idf=True, score=0.582, total=   4.9s\n",
      "[CV] clf__penalty=l2, tvec__analyzer=word, tvec__max_features=500, tvec__ngram_range=(3, 3), tvec__stop_words=None, tvec__use_idf=True \n",
      "[CV]  clf__penalty=l2, tvec__analyzer=word, tvec__max_features=500, tvec__ngram_range=(3, 3), tvec__stop_words=None, tvec__use_idf=True, score=0.5915, total=   6.7s\n",
      "[CV] clf__penalty=l2, tvec__analyzer=word, tvec__max_features=500, tvec__ngram_range=(3, 3), tvec__stop_words=None, tvec__use_idf=True \n",
      "[CV]  clf__penalty=l2, tvec__analyzer=word, tvec__max_features=500, tvec__ngram_range=(3, 3), tvec__stop_words=None, tvec__use_idf=True, score=0.565, total=   5.0s\n",
      "[CV] clf__penalty=l2, tvec__analyzer=word, tvec__max_features=500, tvec__ngram_range=(3, 3), tvec__stop_words=None, tvec__use_idf=False \n",
      "[CV]  clf__penalty=l2, tvec__analyzer=word, tvec__max_features=500, tvec__ngram_range=(3, 3), tvec__stop_words=None, tvec__use_idf=False, score=0.5965, total=   4.7s\n",
      "[CV] clf__penalty=l2, tvec__analyzer=word, tvec__max_features=500, tvec__ngram_range=(3, 3), tvec__stop_words=None, tvec__use_idf=False \n",
      "[CV]  clf__penalty=l2, tvec__analyzer=word, tvec__max_features=500, tvec__ngram_range=(3, 3), tvec__stop_words=None, tvec__use_idf=False, score=0.586, total=   4.9s\n",
      "[CV] clf__penalty=l2, tvec__analyzer=word, tvec__max_features=500, tvec__ngram_range=(3, 3), tvec__stop_words=None, tvec__use_idf=False \n",
      "[CV]  clf__penalty=l2, tvec__analyzer=word, tvec__max_features=500, tvec__ngram_range=(3, 3), tvec__stop_words=None, tvec__use_idf=False, score=0.58175, total=   4.8s\n",
      "[CV] clf__penalty=l2, tvec__analyzer=word, tvec__max_features=500, tvec__ngram_range=(3, 3), tvec__stop_words=None, tvec__use_idf=False \n",
      "[CV]  clf__penalty=l2, tvec__analyzer=word, tvec__max_features=500, tvec__ngram_range=(3, 3), tvec__stop_words=None, tvec__use_idf=False, score=0.591, total=   4.5s\n",
      "[CV] clf__penalty=l2, tvec__analyzer=word, tvec__max_features=500, tvec__ngram_range=(3, 3), tvec__stop_words=None, tvec__use_idf=False \n",
      "[CV]  clf__penalty=l2, tvec__analyzer=word, tvec__max_features=500, tvec__ngram_range=(3, 3), tvec__stop_words=None, tvec__use_idf=False, score=0.58225, total=   4.5s\n",
      "[CV] clf__penalty=l2, tvec__analyzer=word, tvec__max_features=None, tvec__ngram_range=(1, 1), tvec__stop_words=english, tvec__use_idf=True \n",
      "[CV]  clf__penalty=l2, tvec__analyzer=word, tvec__max_features=None, tvec__ngram_range=(1, 1), tvec__stop_words=english, tvec__use_idf=True, score=0.85625, total=   4.1s\n",
      "[CV] clf__penalty=l2, tvec__analyzer=word, tvec__max_features=None, tvec__ngram_range=(1, 1), tvec__stop_words=english, tvec__use_idf=True \n",
      "[CV]  clf__penalty=l2, tvec__analyzer=word, tvec__max_features=None, tvec__ngram_range=(1, 1), tvec__stop_words=english, tvec__use_idf=True, score=0.8295, total=   6.0s\n",
      "[CV] clf__penalty=l2, tvec__analyzer=word, tvec__max_features=None, tvec__ngram_range=(1, 1), tvec__stop_words=english, tvec__use_idf=True \n",
      "[CV]  clf__penalty=l2, tvec__analyzer=word, tvec__max_features=None, tvec__ngram_range=(1, 1), tvec__stop_words=english, tvec__use_idf=True, score=0.841, total=   6.3s\n",
      "[CV] clf__penalty=l2, tvec__analyzer=word, tvec__max_features=None, tvec__ngram_range=(1, 1), tvec__stop_words=english, tvec__use_idf=True \n",
      "[CV]  clf__penalty=l2, tvec__analyzer=word, tvec__max_features=None, tvec__ngram_range=(1, 1), tvec__stop_words=english, tvec__use_idf=True, score=0.83425, total=   9.4s\n",
      "[CV] clf__penalty=l2, tvec__analyzer=word, tvec__max_features=None, tvec__ngram_range=(1, 1), tvec__stop_words=english, tvec__use_idf=True \n",
      "[CV]  clf__penalty=l2, tvec__analyzer=word, tvec__max_features=None, tvec__ngram_range=(1, 1), tvec__stop_words=english, tvec__use_idf=True, score=0.8405, total=   8.1s\n",
      "[CV] clf__penalty=l2, tvec__analyzer=word, tvec__max_features=None, tvec__ngram_range=(1, 1), tvec__stop_words=english, tvec__use_idf=False \n",
      "[CV]  clf__penalty=l2, tvec__analyzer=word, tvec__max_features=None, tvec__ngram_range=(1, 1), tvec__stop_words=english, tvec__use_idf=False, score=0.86975, total=   4.2s\n",
      "[CV] clf__penalty=l2, tvec__analyzer=word, tvec__max_features=None, tvec__ngram_range=(1, 1), tvec__stop_words=english, tvec__use_idf=False \n",
      "[CV]  clf__penalty=l2, tvec__analyzer=word, tvec__max_features=None, tvec__ngram_range=(1, 1), tvec__stop_words=english, tvec__use_idf=False, score=0.863, total=   4.6s\n",
      "[CV] clf__penalty=l2, tvec__analyzer=word, tvec__max_features=None, tvec__ngram_range=(1, 1), tvec__stop_words=english, tvec__use_idf=False \n",
      "[CV]  clf__penalty=l2, tvec__analyzer=word, tvec__max_features=None, tvec__ngram_range=(1, 1), tvec__stop_words=english, tvec__use_idf=False, score=0.877, total=   3.7s\n",
      "[CV] clf__penalty=l2, tvec__analyzer=word, tvec__max_features=None, tvec__ngram_range=(1, 1), tvec__stop_words=english, tvec__use_idf=False \n",
      "[CV]  clf__penalty=l2, tvec__analyzer=word, tvec__max_features=None, tvec__ngram_range=(1, 1), tvec__stop_words=english, tvec__use_idf=False, score=0.85775, total=   4.2s\n",
      "[CV] clf__penalty=l2, tvec__analyzer=word, tvec__max_features=None, tvec__ngram_range=(1, 1), tvec__stop_words=english, tvec__use_idf=False \n",
      "[CV]  clf__penalty=l2, tvec__analyzer=word, tvec__max_features=None, tvec__ngram_range=(1, 1), tvec__stop_words=english, tvec__use_idf=False, score=0.87, total=   4.3s\n",
      "[CV] clf__penalty=l2, tvec__analyzer=word, tvec__max_features=None, tvec__ngram_range=(1, 1), tvec__stop_words=None, tvec__use_idf=True \n",
      "[CV]  clf__penalty=l2, tvec__analyzer=word, tvec__max_features=None, tvec__ngram_range=(1, 1), tvec__stop_words=None, tvec__use_idf=True, score=0.8345, total=   8.1s\n",
      "[CV] clf__penalty=l2, tvec__analyzer=word, tvec__max_features=None, tvec__ngram_range=(1, 1), tvec__stop_words=None, tvec__use_idf=True \n",
      "[CV]  clf__penalty=l2, tvec__analyzer=word, tvec__max_features=None, tvec__ngram_range=(1, 1), tvec__stop_words=None, tvec__use_idf=True, score=0.86025, total=   6.4s\n",
      "[CV] clf__penalty=l2, tvec__analyzer=word, tvec__max_features=None, tvec__ngram_range=(1, 1), tvec__stop_words=None, tvec__use_idf=True \n",
      "[CV]  clf__penalty=l2, tvec__analyzer=word, tvec__max_features=None, tvec__ngram_range=(1, 1), tvec__stop_words=None, tvec__use_idf=True, score=0.82925, total=   6.6s\n",
      "[CV] clf__penalty=l2, tvec__analyzer=word, tvec__max_features=None, tvec__ngram_range=(1, 1), tvec__stop_words=None, tvec__use_idf=True \n",
      "[CV]  clf__penalty=l2, tvec__analyzer=word, tvec__max_features=None, tvec__ngram_range=(1, 1), tvec__stop_words=None, tvec__use_idf=True, score=0.84575, total=   7.2s\n",
      "[CV] clf__penalty=l2, tvec__analyzer=word, tvec__max_features=None, tvec__ngram_range=(1, 1), tvec__stop_words=None, tvec__use_idf=True \n",
      "[CV]  clf__penalty=l2, tvec__analyzer=word, tvec__max_features=None, tvec__ngram_range=(1, 1), tvec__stop_words=None, tvec__use_idf=True, score=0.85375, total=   8.8s\n",
      "[CV] clf__penalty=l2, tvec__analyzer=word, tvec__max_features=None, tvec__ngram_range=(1, 1), tvec__stop_words=None, tvec__use_idf=False \n",
      "[CV]  clf__penalty=l2, tvec__analyzer=word, tvec__max_features=None, tvec__ngram_range=(1, 1), tvec__stop_words=None, tvec__use_idf=False, score=0.8835, total=   3.9s\n",
      "[CV] clf__penalty=l2, tvec__analyzer=word, tvec__max_features=None, tvec__ngram_range=(1, 1), tvec__stop_words=None, tvec__use_idf=False \n",
      "[CV]  clf__penalty=l2, tvec__analyzer=word, tvec__max_features=None, tvec__ngram_range=(1, 1), tvec__stop_words=None, tvec__use_idf=False, score=0.87675, total=   4.7s\n",
      "[CV] clf__penalty=l2, tvec__analyzer=word, tvec__max_features=None, tvec__ngram_range=(1, 1), tvec__stop_words=None, tvec__use_idf=False \n",
      "[CV]  clf__penalty=l2, tvec__analyzer=word, tvec__max_features=None, tvec__ngram_range=(1, 1), tvec__stop_words=None, tvec__use_idf=False, score=0.8755, total=   3.7s\n",
      "[CV] clf__penalty=l2, tvec__analyzer=word, tvec__max_features=None, tvec__ngram_range=(1, 1), tvec__stop_words=None, tvec__use_idf=False \n"
     ]
    },
    {
     "name": "stdout",
     "output_type": "stream",
     "text": [
      "[CV]  clf__penalty=l2, tvec__analyzer=word, tvec__max_features=None, tvec__ngram_range=(1, 1), tvec__stop_words=None, tvec__use_idf=False, score=0.8725, total=   3.9s\n",
      "[CV] clf__penalty=l2, tvec__analyzer=word, tvec__max_features=None, tvec__ngram_range=(1, 1), tvec__stop_words=None, tvec__use_idf=False \n",
      "[CV]  clf__penalty=l2, tvec__analyzer=word, tvec__max_features=None, tvec__ngram_range=(1, 1), tvec__stop_words=None, tvec__use_idf=False, score=0.87425, total=   3.8s\n",
      "[CV] clf__penalty=l2, tvec__analyzer=word, tvec__max_features=None, tvec__ngram_range=(3, 3), tvec__stop_words=english, tvec__use_idf=True \n",
      "[CV]  clf__penalty=l2, tvec__analyzer=word, tvec__max_features=None, tvec__ngram_range=(3, 3), tvec__stop_words=english, tvec__use_idf=True, score=0.56475, total=  22.5s\n",
      "[CV] clf__penalty=l2, tvec__analyzer=word, tvec__max_features=None, tvec__ngram_range=(3, 3), tvec__stop_words=english, tvec__use_idf=True \n",
      "[CV]  clf__penalty=l2, tvec__analyzer=word, tvec__max_features=None, tvec__ngram_range=(3, 3), tvec__stop_words=english, tvec__use_idf=True, score=0.5505, total=  20.0s\n",
      "[CV] clf__penalty=l2, tvec__analyzer=word, tvec__max_features=None, tvec__ngram_range=(3, 3), tvec__stop_words=english, tvec__use_idf=True \n",
      "[CV]  clf__penalty=l2, tvec__analyzer=word, tvec__max_features=None, tvec__ngram_range=(3, 3), tvec__stop_words=english, tvec__use_idf=True, score=0.54925, total=  19.7s\n",
      "[CV] clf__penalty=l2, tvec__analyzer=word, tvec__max_features=None, tvec__ngram_range=(3, 3), tvec__stop_words=english, tvec__use_idf=True \n",
      "[CV]  clf__penalty=l2, tvec__analyzer=word, tvec__max_features=None, tvec__ngram_range=(3, 3), tvec__stop_words=english, tvec__use_idf=True, score=0.55225, total=  23.1s\n",
      "[CV] clf__penalty=l2, tvec__analyzer=word, tvec__max_features=None, tvec__ngram_range=(3, 3), tvec__stop_words=english, tvec__use_idf=True \n",
      "[CV]  clf__penalty=l2, tvec__analyzer=word, tvec__max_features=None, tvec__ngram_range=(3, 3), tvec__stop_words=english, tvec__use_idf=True, score=0.54925, total=  20.6s\n",
      "[CV] clf__penalty=l2, tvec__analyzer=word, tvec__max_features=None, tvec__ngram_range=(3, 3), tvec__stop_words=english, tvec__use_idf=False \n",
      "[CV]  clf__penalty=l2, tvec__analyzer=word, tvec__max_features=None, tvec__ngram_range=(3, 3), tvec__stop_words=english, tvec__use_idf=False, score=0.5395, total=  11.5s\n",
      "[CV] clf__penalty=l2, tvec__analyzer=word, tvec__max_features=None, tvec__ngram_range=(3, 3), tvec__stop_words=english, tvec__use_idf=False \n",
      "[CV]  clf__penalty=l2, tvec__analyzer=word, tvec__max_features=None, tvec__ngram_range=(3, 3), tvec__stop_words=english, tvec__use_idf=False, score=0.5355, total=  10.5s\n",
      "[CV] clf__penalty=l2, tvec__analyzer=word, tvec__max_features=None, tvec__ngram_range=(3, 3), tvec__stop_words=english, tvec__use_idf=False \n",
      "[CV]  clf__penalty=l2, tvec__analyzer=word, tvec__max_features=None, tvec__ngram_range=(3, 3), tvec__stop_words=english, tvec__use_idf=False, score=0.5355, total=  10.1s\n",
      "[CV] clf__penalty=l2, tvec__analyzer=word, tvec__max_features=None, tvec__ngram_range=(3, 3), tvec__stop_words=english, tvec__use_idf=False \n",
      "[CV]  clf__penalty=l2, tvec__analyzer=word, tvec__max_features=None, tvec__ngram_range=(3, 3), tvec__stop_words=english, tvec__use_idf=False, score=0.535, total=  11.7s\n",
      "[CV] clf__penalty=l2, tvec__analyzer=word, tvec__max_features=None, tvec__ngram_range=(3, 3), tvec__stop_words=english, tvec__use_idf=False \n",
      "[CV]  clf__penalty=l2, tvec__analyzer=word, tvec__max_features=None, tvec__ngram_range=(3, 3), tvec__stop_words=english, tvec__use_idf=False, score=0.53575, total=  11.0s\n",
      "[CV] clf__penalty=l2, tvec__analyzer=word, tvec__max_features=None, tvec__ngram_range=(3, 3), tvec__stop_words=None, tvec__use_idf=True \n",
      "[CV]  clf__penalty=l2, tvec__analyzer=word, tvec__max_features=None, tvec__ngram_range=(3, 3), tvec__stop_words=None, tvec__use_idf=True, score=0.75825, total=  51.2s\n",
      "[CV] clf__penalty=l2, tvec__analyzer=word, tvec__max_features=None, tvec__ngram_range=(3, 3), tvec__stop_words=None, tvec__use_idf=True \n",
      "[CV]  clf__penalty=l2, tvec__analyzer=word, tvec__max_features=None, tvec__ngram_range=(3, 3), tvec__stop_words=None, tvec__use_idf=True, score=0.7415, total=  48.6s\n",
      "[CV] clf__penalty=l2, tvec__analyzer=word, tvec__max_features=None, tvec__ngram_range=(3, 3), tvec__stop_words=None, tvec__use_idf=True \n",
      "[CV]  clf__penalty=l2, tvec__analyzer=word, tvec__max_features=None, tvec__ngram_range=(3, 3), tvec__stop_words=None, tvec__use_idf=True, score=0.73375, total=  48.9s\n",
      "[CV] clf__penalty=l2, tvec__analyzer=word, tvec__max_features=None, tvec__ngram_range=(3, 3), tvec__stop_words=None, tvec__use_idf=True \n",
      "[CV]  clf__penalty=l2, tvec__analyzer=word, tvec__max_features=None, tvec__ngram_range=(3, 3), tvec__stop_words=None, tvec__use_idf=True, score=0.744, total=  53.1s\n",
      "[CV] clf__penalty=l2, tvec__analyzer=word, tvec__max_features=None, tvec__ngram_range=(3, 3), tvec__stop_words=None, tvec__use_idf=True \n",
      "[CV]  clf__penalty=l2, tvec__analyzer=word, tvec__max_features=None, tvec__ngram_range=(3, 3), tvec__stop_words=None, tvec__use_idf=True, score=0.73875, total=  50.6s\n",
      "[CV] clf__penalty=l2, tvec__analyzer=word, tvec__max_features=None, tvec__ngram_range=(3, 3), tvec__stop_words=None, tvec__use_idf=False \n",
      "[CV]  clf__penalty=l2, tvec__analyzer=word, tvec__max_features=None, tvec__ngram_range=(3, 3), tvec__stop_words=None, tvec__use_idf=False, score=0.7225, total=  27.4s\n",
      "[CV] clf__penalty=l2, tvec__analyzer=word, tvec__max_features=None, tvec__ngram_range=(3, 3), tvec__stop_words=None, tvec__use_idf=False \n",
      "[CV]  clf__penalty=l2, tvec__analyzer=word, tvec__max_features=None, tvec__ngram_range=(3, 3), tvec__stop_words=None, tvec__use_idf=False, score=0.71775, total=  26.9s\n",
      "[CV] clf__penalty=l2, tvec__analyzer=word, tvec__max_features=None, tvec__ngram_range=(3, 3), tvec__stop_words=None, tvec__use_idf=False \n",
      "[CV]  clf__penalty=l2, tvec__analyzer=word, tvec__max_features=None, tvec__ngram_range=(3, 3), tvec__stop_words=None, tvec__use_idf=False, score=0.7145, total=  25.7s\n",
      "[CV] clf__penalty=l2, tvec__analyzer=word, tvec__max_features=None, tvec__ngram_range=(3, 3), tvec__stop_words=None, tvec__use_idf=False \n",
      "[CV]  clf__penalty=l2, tvec__analyzer=word, tvec__max_features=None, tvec__ngram_range=(3, 3), tvec__stop_words=None, tvec__use_idf=False, score=0.72625, total=  27.7s\n",
      "[CV] clf__penalty=l2, tvec__analyzer=word, tvec__max_features=None, tvec__ngram_range=(3, 3), tvec__stop_words=None, tvec__use_idf=False \n",
      "[CV]  clf__penalty=l2, tvec__analyzer=word, tvec__max_features=None, tvec__ngram_range=(3, 3), tvec__stop_words=None, tvec__use_idf=False, score=0.712, total=  27.0s\n",
      "[CV] clf__penalty=l2, tvec__analyzer=char, tvec__max_features=500, tvec__ngram_range=(1, 1), tvec__stop_words=english, tvec__use_idf=True \n",
      "[CV]  clf__penalty=l2, tvec__analyzer=char, tvec__max_features=500, tvec__ngram_range=(1, 1), tvec__stop_words=english, tvec__use_idf=True, score=0.72975, total=   2.2s\n",
      "[CV] clf__penalty=l2, tvec__analyzer=char, tvec__max_features=500, tvec__ngram_range=(1, 1), tvec__stop_words=english, tvec__use_idf=True \n",
      "[CV]  clf__penalty=l2, tvec__analyzer=char, tvec__max_features=500, tvec__ngram_range=(1, 1), tvec__stop_words=english, tvec__use_idf=True, score=0.7135, total=   2.4s\n",
      "[CV] clf__penalty=l2, tvec__analyzer=char, tvec__max_features=500, tvec__ngram_range=(1, 1), tvec__stop_words=english, tvec__use_idf=True \n",
      "[CV]  clf__penalty=l2, tvec__analyzer=char, tvec__max_features=500, tvec__ngram_range=(1, 1), tvec__stop_words=english, tvec__use_idf=True, score=0.725, total=   2.2s\n",
      "[CV] clf__penalty=l2, tvec__analyzer=char, tvec__max_features=500, tvec__ngram_range=(1, 1), tvec__stop_words=english, tvec__use_idf=True \n",
      "[CV]  clf__penalty=l2, tvec__analyzer=char, tvec__max_features=500, tvec__ngram_range=(1, 1), tvec__stop_words=english, tvec__use_idf=True, score=0.71875, total=   2.8s\n",
      "[CV] clf__penalty=l2, tvec__analyzer=char, tvec__max_features=500, tvec__ngram_range=(1, 1), tvec__stop_words=english, tvec__use_idf=True \n",
      "[CV]  clf__penalty=l2, tvec__analyzer=char, tvec__max_features=500, tvec__ngram_range=(1, 1), tvec__stop_words=english, tvec__use_idf=True, score=0.72025, total=   2.2s\n",
      "[CV] clf__penalty=l2, tvec__analyzer=char, tvec__max_features=500, tvec__ngram_range=(1, 1), tvec__stop_words=english, tvec__use_idf=False \n"
     ]
    },
    {
     "name": "stdout",
     "output_type": "stream",
     "text": [
      "[CV]  clf__penalty=l2, tvec__analyzer=char, tvec__max_features=500, tvec__ngram_range=(1, 1), tvec__stop_words=english, tvec__use_idf=False, score=0.7255, total=   2.4s\n",
      "[CV] clf__penalty=l2, tvec__analyzer=char, tvec__max_features=500, tvec__ngram_range=(1, 1), tvec__stop_words=english, tvec__use_idf=False \n",
      "[CV]  clf__penalty=l2, tvec__analyzer=char, tvec__max_features=500, tvec__ngram_range=(1, 1), tvec__stop_words=english, tvec__use_idf=False, score=0.71375, total=   2.6s\n",
      "[CV] clf__penalty=l2, tvec__analyzer=char, tvec__max_features=500, tvec__ngram_range=(1, 1), tvec__stop_words=english, tvec__use_idf=False \n",
      "[CV]  clf__penalty=l2, tvec__analyzer=char, tvec__max_features=500, tvec__ngram_range=(1, 1), tvec__stop_words=english, tvec__use_idf=False, score=0.71875, total=   2.5s\n",
      "[CV] clf__penalty=l2, tvec__analyzer=char, tvec__max_features=500, tvec__ngram_range=(1, 1), tvec__stop_words=english, tvec__use_idf=False \n",
      "[CV]  clf__penalty=l2, tvec__analyzer=char, tvec__max_features=500, tvec__ngram_range=(1, 1), tvec__stop_words=english, tvec__use_idf=False, score=0.72075, total=   2.7s\n",
      "[CV] clf__penalty=l2, tvec__analyzer=char, tvec__max_features=500, tvec__ngram_range=(1, 1), tvec__stop_words=english, tvec__use_idf=False \n",
      "[CV]  clf__penalty=l2, tvec__analyzer=char, tvec__max_features=500, tvec__ngram_range=(1, 1), tvec__stop_words=english, tvec__use_idf=False, score=0.71725, total=   2.4s\n",
      "[CV] clf__penalty=l2, tvec__analyzer=char, tvec__max_features=500, tvec__ngram_range=(1, 1), tvec__stop_words=None, tvec__use_idf=True \n",
      "[CV]  clf__penalty=l2, tvec__analyzer=char, tvec__max_features=500, tvec__ngram_range=(1, 1), tvec__stop_words=None, tvec__use_idf=True, score=0.72975, total=   2.4s\n",
      "[CV] clf__penalty=l2, tvec__analyzer=char, tvec__max_features=500, tvec__ngram_range=(1, 1), tvec__stop_words=None, tvec__use_idf=True \n",
      "[CV]  clf__penalty=l2, tvec__analyzer=char, tvec__max_features=500, tvec__ngram_range=(1, 1), tvec__stop_words=None, tvec__use_idf=True, score=0.7135, total=   2.4s\n",
      "[CV] clf__penalty=l2, tvec__analyzer=char, tvec__max_features=500, tvec__ngram_range=(1, 1), tvec__stop_words=None, tvec__use_idf=True \n",
      "[CV]  clf__penalty=l2, tvec__analyzer=char, tvec__max_features=500, tvec__ngram_range=(1, 1), tvec__stop_words=None, tvec__use_idf=True, score=0.725, total=   2.2s\n",
      "[CV] clf__penalty=l2, tvec__analyzer=char, tvec__max_features=500, tvec__ngram_range=(1, 1), tvec__stop_words=None, tvec__use_idf=True \n",
      "[CV]  clf__penalty=l2, tvec__analyzer=char, tvec__max_features=500, tvec__ngram_range=(1, 1), tvec__stop_words=None, tvec__use_idf=True, score=0.71875, total=   2.8s\n",
      "[CV] clf__penalty=l2, tvec__analyzer=char, tvec__max_features=500, tvec__ngram_range=(1, 1), tvec__stop_words=None, tvec__use_idf=True \n",
      "[CV]  clf__penalty=l2, tvec__analyzer=char, tvec__max_features=500, tvec__ngram_range=(1, 1), tvec__stop_words=None, tvec__use_idf=True, score=0.72025, total=   2.2s\n",
      "[CV] clf__penalty=l2, tvec__analyzer=char, tvec__max_features=500, tvec__ngram_range=(1, 1), tvec__stop_words=None, tvec__use_idf=False \n",
      "[CV]  clf__penalty=l2, tvec__analyzer=char, tvec__max_features=500, tvec__ngram_range=(1, 1), tvec__stop_words=None, tvec__use_idf=False, score=0.7255, total=   2.4s\n",
      "[CV] clf__penalty=l2, tvec__analyzer=char, tvec__max_features=500, tvec__ngram_range=(1, 1), tvec__stop_words=None, tvec__use_idf=False \n",
      "[CV]  clf__penalty=l2, tvec__analyzer=char, tvec__max_features=500, tvec__ngram_range=(1, 1), tvec__stop_words=None, tvec__use_idf=False, score=0.71375, total=   2.7s\n",
      "[CV] clf__penalty=l2, tvec__analyzer=char, tvec__max_features=500, tvec__ngram_range=(1, 1), tvec__stop_words=None, tvec__use_idf=False \n",
      "[CV]  clf__penalty=l2, tvec__analyzer=char, tvec__max_features=500, tvec__ngram_range=(1, 1), tvec__stop_words=None, tvec__use_idf=False, score=0.71875, total=   2.3s\n",
      "[CV] clf__penalty=l2, tvec__analyzer=char, tvec__max_features=500, tvec__ngram_range=(1, 1), tvec__stop_words=None, tvec__use_idf=False \n",
      "[CV]  clf__penalty=l2, tvec__analyzer=char, tvec__max_features=500, tvec__ngram_range=(1, 1), tvec__stop_words=None, tvec__use_idf=False, score=0.72075, total=   2.7s\n",
      "[CV] clf__penalty=l2, tvec__analyzer=char, tvec__max_features=500, tvec__ngram_range=(1, 1), tvec__stop_words=None, tvec__use_idf=False \n",
      "[CV]  clf__penalty=l2, tvec__analyzer=char, tvec__max_features=500, tvec__ngram_range=(1, 1), tvec__stop_words=None, tvec__use_idf=False, score=0.71725, total=   2.4s\n",
      "[CV] clf__penalty=l2, tvec__analyzer=char, tvec__max_features=500, tvec__ngram_range=(3, 3), tvec__stop_words=english, tvec__use_idf=True \n",
      "[CV]  clf__penalty=l2, tvec__analyzer=char, tvec__max_features=500, tvec__ngram_range=(3, 3), tvec__stop_words=english, tvec__use_idf=True, score=0.813, total=   6.7s\n",
      "[CV] clf__penalty=l2, tvec__analyzer=char, tvec__max_features=500, tvec__ngram_range=(3, 3), tvec__stop_words=english, tvec__use_idf=True \n",
      "[CV]  clf__penalty=l2, tvec__analyzer=char, tvec__max_features=500, tvec__ngram_range=(3, 3), tvec__stop_words=english, tvec__use_idf=True, score=0.8205, total=   7.2s\n",
      "[CV] clf__penalty=l2, tvec__analyzer=char, tvec__max_features=500, tvec__ngram_range=(3, 3), tvec__stop_words=english, tvec__use_idf=True \n",
      "[CV]  clf__penalty=l2, tvec__analyzer=char, tvec__max_features=500, tvec__ngram_range=(3, 3), tvec__stop_words=english, tvec__use_idf=True, score=0.82, total=   7.2s\n",
      "[CV] clf__penalty=l2, tvec__analyzer=char, tvec__max_features=500, tvec__ngram_range=(3, 3), tvec__stop_words=english, tvec__use_idf=True \n",
      "[CV]  clf__penalty=l2, tvec__analyzer=char, tvec__max_features=500, tvec__ngram_range=(3, 3), tvec__stop_words=english, tvec__use_idf=True, score=0.8145, total=   7.4s\n",
      "[CV] clf__penalty=l2, tvec__analyzer=char, tvec__max_features=500, tvec__ngram_range=(3, 3), tvec__stop_words=english, tvec__use_idf=True \n",
      "[CV]  clf__penalty=l2, tvec__analyzer=char, tvec__max_features=500, tvec__ngram_range=(3, 3), tvec__stop_words=english, tvec__use_idf=True, score=0.82375, total=   7.9s\n",
      "[CV] clf__penalty=l2, tvec__analyzer=char, tvec__max_features=500, tvec__ngram_range=(3, 3), tvec__stop_words=english, tvec__use_idf=False \n",
      "[CV]  clf__penalty=l2, tvec__analyzer=char, tvec__max_features=500, tvec__ngram_range=(3, 3), tvec__stop_words=english, tvec__use_idf=False, score=0.8345, total=   7.3s\n",
      "[CV] clf__penalty=l2, tvec__analyzer=char, tvec__max_features=500, tvec__ngram_range=(3, 3), tvec__stop_words=english, tvec__use_idf=False \n",
      "[CV]  clf__penalty=l2, tvec__analyzer=char, tvec__max_features=500, tvec__ngram_range=(3, 3), tvec__stop_words=english, tvec__use_idf=False, score=0.819, total=   6.5s\n",
      "[CV] clf__penalty=l2, tvec__analyzer=char, tvec__max_features=500, tvec__ngram_range=(3, 3), tvec__stop_words=english, tvec__use_idf=False \n",
      "[CV]  clf__penalty=l2, tvec__analyzer=char, tvec__max_features=500, tvec__ngram_range=(3, 3), tvec__stop_words=english, tvec__use_idf=False, score=0.8255, total=   7.0s\n",
      "[CV] clf__penalty=l2, tvec__analyzer=char, tvec__max_features=500, tvec__ngram_range=(3, 3), tvec__stop_words=english, tvec__use_idf=False \n",
      "[CV]  clf__penalty=l2, tvec__analyzer=char, tvec__max_features=500, tvec__ngram_range=(3, 3), tvec__stop_words=english, tvec__use_idf=False, score=0.8135, total=   6.8s\n",
      "[CV] clf__penalty=l2, tvec__analyzer=char, tvec__max_features=500, tvec__ngram_range=(3, 3), tvec__stop_words=english, tvec__use_idf=False \n",
      "[CV]  clf__penalty=l2, tvec__analyzer=char, tvec__max_features=500, tvec__ngram_range=(3, 3), tvec__stop_words=english, tvec__use_idf=False, score=0.81825, total=   7.2s\n",
      "[CV] clf__penalty=l2, tvec__analyzer=char, tvec__max_features=500, tvec__ngram_range=(3, 3), tvec__stop_words=None, tvec__use_idf=True \n",
      "[CV]  clf__penalty=l2, tvec__analyzer=char, tvec__max_features=500, tvec__ngram_range=(3, 3), tvec__stop_words=None, tvec__use_idf=True, score=0.813, total=   6.7s\n",
      "[CV] clf__penalty=l2, tvec__analyzer=char, tvec__max_features=500, tvec__ngram_range=(3, 3), tvec__stop_words=None, tvec__use_idf=True \n",
      "[CV]  clf__penalty=l2, tvec__analyzer=char, tvec__max_features=500, tvec__ngram_range=(3, 3), tvec__stop_words=None, tvec__use_idf=True, score=0.8205, total=   7.3s\n",
      "[CV] clf__penalty=l2, tvec__analyzer=char, tvec__max_features=500, tvec__ngram_range=(3, 3), tvec__stop_words=None, tvec__use_idf=True \n"
     ]
    },
    {
     "name": "stdout",
     "output_type": "stream",
     "text": [
      "[CV]  clf__penalty=l2, tvec__analyzer=char, tvec__max_features=500, tvec__ngram_range=(3, 3), tvec__stop_words=None, tvec__use_idf=True, score=0.82, total=   7.3s\n",
      "[CV] clf__penalty=l2, tvec__analyzer=char, tvec__max_features=500, tvec__ngram_range=(3, 3), tvec__stop_words=None, tvec__use_idf=True \n",
      "[CV]  clf__penalty=l2, tvec__analyzer=char, tvec__max_features=500, tvec__ngram_range=(3, 3), tvec__stop_words=None, tvec__use_idf=True, score=0.8145, total=   7.1s\n",
      "[CV] clf__penalty=l2, tvec__analyzer=char, tvec__max_features=500, tvec__ngram_range=(3, 3), tvec__stop_words=None, tvec__use_idf=True \n",
      "[CV]  clf__penalty=l2, tvec__analyzer=char, tvec__max_features=500, tvec__ngram_range=(3, 3), tvec__stop_words=None, tvec__use_idf=True, score=0.82375, total=   7.8s\n",
      "[CV] clf__penalty=l2, tvec__analyzer=char, tvec__max_features=500, tvec__ngram_range=(3, 3), tvec__stop_words=None, tvec__use_idf=False \n",
      "[CV]  clf__penalty=l2, tvec__analyzer=char, tvec__max_features=500, tvec__ngram_range=(3, 3), tvec__stop_words=None, tvec__use_idf=False, score=0.8345, total=   7.3s\n",
      "[CV] clf__penalty=l2, tvec__analyzer=char, tvec__max_features=500, tvec__ngram_range=(3, 3), tvec__stop_words=None, tvec__use_idf=False \n",
      "[CV]  clf__penalty=l2, tvec__analyzer=char, tvec__max_features=500, tvec__ngram_range=(3, 3), tvec__stop_words=None, tvec__use_idf=False, score=0.819, total=   6.5s\n",
      "[CV] clf__penalty=l2, tvec__analyzer=char, tvec__max_features=500, tvec__ngram_range=(3, 3), tvec__stop_words=None, tvec__use_idf=False \n",
      "[CV]  clf__penalty=l2, tvec__analyzer=char, tvec__max_features=500, tvec__ngram_range=(3, 3), tvec__stop_words=None, tvec__use_idf=False, score=0.8255, total=   7.0s\n",
      "[CV] clf__penalty=l2, tvec__analyzer=char, tvec__max_features=500, tvec__ngram_range=(3, 3), tvec__stop_words=None, tvec__use_idf=False \n",
      "[CV]  clf__penalty=l2, tvec__analyzer=char, tvec__max_features=500, tvec__ngram_range=(3, 3), tvec__stop_words=None, tvec__use_idf=False, score=0.8135, total=   6.8s\n",
      "[CV] clf__penalty=l2, tvec__analyzer=char, tvec__max_features=500, tvec__ngram_range=(3, 3), tvec__stop_words=None, tvec__use_idf=False \n",
      "[CV]  clf__penalty=l2, tvec__analyzer=char, tvec__max_features=500, tvec__ngram_range=(3, 3), tvec__stop_words=None, tvec__use_idf=False, score=0.81825, total=   7.2s\n",
      "[CV] clf__penalty=l2, tvec__analyzer=char, tvec__max_features=None, tvec__ngram_range=(1, 1), tvec__stop_words=english, tvec__use_idf=True \n",
      "[CV]  clf__penalty=l2, tvec__analyzer=char, tvec__max_features=None, tvec__ngram_range=(1, 1), tvec__stop_words=english, tvec__use_idf=True, score=0.72975, total=   2.4s\n",
      "[CV] clf__penalty=l2, tvec__analyzer=char, tvec__max_features=None, tvec__ngram_range=(1, 1), tvec__stop_words=english, tvec__use_idf=True \n",
      "[CV]  clf__penalty=l2, tvec__analyzer=char, tvec__max_features=None, tvec__ngram_range=(1, 1), tvec__stop_words=english, tvec__use_idf=True, score=0.7135, total=   2.3s\n",
      "[CV] clf__penalty=l2, tvec__analyzer=char, tvec__max_features=None, tvec__ngram_range=(1, 1), tvec__stop_words=english, tvec__use_idf=True \n",
      "[CV]  clf__penalty=l2, tvec__analyzer=char, tvec__max_features=None, tvec__ngram_range=(1, 1), tvec__stop_words=english, tvec__use_idf=True, score=0.725, total=   2.2s\n",
      "[CV] clf__penalty=l2, tvec__analyzer=char, tvec__max_features=None, tvec__ngram_range=(1, 1), tvec__stop_words=english, tvec__use_idf=True \n",
      "[CV]  clf__penalty=l2, tvec__analyzer=char, tvec__max_features=None, tvec__ngram_range=(1, 1), tvec__stop_words=english, tvec__use_idf=True, score=0.71875, total=   2.8s\n",
      "[CV] clf__penalty=l2, tvec__analyzer=char, tvec__max_features=None, tvec__ngram_range=(1, 1), tvec__stop_words=english, tvec__use_idf=True \n",
      "[CV]  clf__penalty=l2, tvec__analyzer=char, tvec__max_features=None, tvec__ngram_range=(1, 1), tvec__stop_words=english, tvec__use_idf=True, score=0.72025, total=   2.2s\n",
      "[CV] clf__penalty=l2, tvec__analyzer=char, tvec__max_features=None, tvec__ngram_range=(1, 1), tvec__stop_words=english, tvec__use_idf=False \n",
      "[CV]  clf__penalty=l2, tvec__analyzer=char, tvec__max_features=None, tvec__ngram_range=(1, 1), tvec__stop_words=english, tvec__use_idf=False, score=0.7255, total=   2.3s\n",
      "[CV] clf__penalty=l2, tvec__analyzer=char, tvec__max_features=None, tvec__ngram_range=(1, 1), tvec__stop_words=english, tvec__use_idf=False \n",
      "[CV]  clf__penalty=l2, tvec__analyzer=char, tvec__max_features=None, tvec__ngram_range=(1, 1), tvec__stop_words=english, tvec__use_idf=False, score=0.71375, total=   2.7s\n",
      "[CV] clf__penalty=l2, tvec__analyzer=char, tvec__max_features=None, tvec__ngram_range=(1, 1), tvec__stop_words=english, tvec__use_idf=False \n",
      "[CV]  clf__penalty=l2, tvec__analyzer=char, tvec__max_features=None, tvec__ngram_range=(1, 1), tvec__stop_words=english, tvec__use_idf=False, score=0.71875, total=   2.3s\n",
      "[CV] clf__penalty=l2, tvec__analyzer=char, tvec__max_features=None, tvec__ngram_range=(1, 1), tvec__stop_words=english, tvec__use_idf=False \n",
      "[CV]  clf__penalty=l2, tvec__analyzer=char, tvec__max_features=None, tvec__ngram_range=(1, 1), tvec__stop_words=english, tvec__use_idf=False, score=0.72075, total=   2.7s\n",
      "[CV] clf__penalty=l2, tvec__analyzer=char, tvec__max_features=None, tvec__ngram_range=(1, 1), tvec__stop_words=english, tvec__use_idf=False \n",
      "[CV]  clf__penalty=l2, tvec__analyzer=char, tvec__max_features=None, tvec__ngram_range=(1, 1), tvec__stop_words=english, tvec__use_idf=False, score=0.71725, total=   2.4s\n",
      "[CV] clf__penalty=l2, tvec__analyzer=char, tvec__max_features=None, tvec__ngram_range=(1, 1), tvec__stop_words=None, tvec__use_idf=True \n",
      "[CV]  clf__penalty=l2, tvec__analyzer=char, tvec__max_features=None, tvec__ngram_range=(1, 1), tvec__stop_words=None, tvec__use_idf=True, score=0.72975, total=   2.4s\n",
      "[CV] clf__penalty=l2, tvec__analyzer=char, tvec__max_features=None, tvec__ngram_range=(1, 1), tvec__stop_words=None, tvec__use_idf=True \n",
      "[CV]  clf__penalty=l2, tvec__analyzer=char, tvec__max_features=None, tvec__ngram_range=(1, 1), tvec__stop_words=None, tvec__use_idf=True, score=0.7135, total=   2.3s\n",
      "[CV] clf__penalty=l2, tvec__analyzer=char, tvec__max_features=None, tvec__ngram_range=(1, 1), tvec__stop_words=None, tvec__use_idf=True \n",
      "[CV]  clf__penalty=l2, tvec__analyzer=char, tvec__max_features=None, tvec__ngram_range=(1, 1), tvec__stop_words=None, tvec__use_idf=True, score=0.725, total=   2.2s\n",
      "[CV] clf__penalty=l2, tvec__analyzer=char, tvec__max_features=None, tvec__ngram_range=(1, 1), tvec__stop_words=None, tvec__use_idf=True \n",
      "[CV]  clf__penalty=l2, tvec__analyzer=char, tvec__max_features=None, tvec__ngram_range=(1, 1), tvec__stop_words=None, tvec__use_idf=True, score=0.71875, total=   2.8s\n",
      "[CV] clf__penalty=l2, tvec__analyzer=char, tvec__max_features=None, tvec__ngram_range=(1, 1), tvec__stop_words=None, tvec__use_idf=True \n",
      "[CV]  clf__penalty=l2, tvec__analyzer=char, tvec__max_features=None, tvec__ngram_range=(1, 1), tvec__stop_words=None, tvec__use_idf=True, score=0.72025, total=   2.2s\n",
      "[CV] clf__penalty=l2, tvec__analyzer=char, tvec__max_features=None, tvec__ngram_range=(1, 1), tvec__stop_words=None, tvec__use_idf=False \n",
      "[CV]  clf__penalty=l2, tvec__analyzer=char, tvec__max_features=None, tvec__ngram_range=(1, 1), tvec__stop_words=None, tvec__use_idf=False, score=0.7255, total=   2.3s\n",
      "[CV] clf__penalty=l2, tvec__analyzer=char, tvec__max_features=None, tvec__ngram_range=(1, 1), tvec__stop_words=None, tvec__use_idf=False \n",
      "[CV]  clf__penalty=l2, tvec__analyzer=char, tvec__max_features=None, tvec__ngram_range=(1, 1), tvec__stop_words=None, tvec__use_idf=False, score=0.71375, total=   2.7s\n",
      "[CV] clf__penalty=l2, tvec__analyzer=char, tvec__max_features=None, tvec__ngram_range=(1, 1), tvec__stop_words=None, tvec__use_idf=False \n",
      "[CV]  clf__penalty=l2, tvec__analyzer=char, tvec__max_features=None, tvec__ngram_range=(1, 1), tvec__stop_words=None, tvec__use_idf=False, score=0.71875, total=   2.3s\n",
      "[CV] clf__penalty=l2, tvec__analyzer=char, tvec__max_features=None, tvec__ngram_range=(1, 1), tvec__stop_words=None, tvec__use_idf=False \n",
      "[CV]  clf__penalty=l2, tvec__analyzer=char, tvec__max_features=None, tvec__ngram_range=(1, 1), tvec__stop_words=None, tvec__use_idf=False, score=0.72075, total=   2.7s\n",
      "[CV] clf__penalty=l2, tvec__analyzer=char, tvec__max_features=None, tvec__ngram_range=(1, 1), tvec__stop_words=None, tvec__use_idf=False \n"
     ]
    },
    {
     "name": "stdout",
     "output_type": "stream",
     "text": [
      "[CV]  clf__penalty=l2, tvec__analyzer=char, tvec__max_features=None, tvec__ngram_range=(1, 1), tvec__stop_words=None, tvec__use_idf=False, score=0.71725, total=   2.4s\n",
      "[CV] clf__penalty=l2, tvec__analyzer=char, tvec__max_features=None, tvec__ngram_range=(3, 3), tvec__stop_words=english, tvec__use_idf=True \n",
      "[CV]  clf__penalty=l2, tvec__analyzer=char, tvec__max_features=None, tvec__ngram_range=(3, 3), tvec__stop_words=english, tvec__use_idf=True, score=0.86, total=  11.9s\n",
      "[CV] clf__penalty=l2, tvec__analyzer=char, tvec__max_features=None, tvec__ngram_range=(3, 3), tvec__stop_words=english, tvec__use_idf=True \n",
      "[CV]  clf__penalty=l2, tvec__analyzer=char, tvec__max_features=None, tvec__ngram_range=(3, 3), tvec__stop_words=english, tvec__use_idf=True, score=0.8475, total=  12.4s\n",
      "[CV] clf__penalty=l2, tvec__analyzer=char, tvec__max_features=None, tvec__ngram_range=(3, 3), tvec__stop_words=english, tvec__use_idf=True \n",
      "[CV]  clf__penalty=l2, tvec__analyzer=char, tvec__max_features=None, tvec__ngram_range=(3, 3), tvec__stop_words=english, tvec__use_idf=True, score=0.85075, total=  11.9s\n",
      "[CV] clf__penalty=l2, tvec__analyzer=char, tvec__max_features=None, tvec__ngram_range=(3, 3), tvec__stop_words=english, tvec__use_idf=True \n",
      "[CV]  clf__penalty=l2, tvec__analyzer=char, tvec__max_features=None, tvec__ngram_range=(3, 3), tvec__stop_words=english, tvec__use_idf=True, score=0.857, total=  13.7s\n",
      "[CV] clf__penalty=l2, tvec__analyzer=char, tvec__max_features=None, tvec__ngram_range=(3, 3), tvec__stop_words=english, tvec__use_idf=True \n",
      "[CV]  clf__penalty=l2, tvec__analyzer=char, tvec__max_features=None, tvec__ngram_range=(3, 3), tvec__stop_words=english, tvec__use_idf=True, score=0.85075, total=  12.3s\n",
      "[CV] clf__penalty=l2, tvec__analyzer=char, tvec__max_features=None, tvec__ngram_range=(3, 3), tvec__stop_words=english, tvec__use_idf=False \n",
      "[CV]  clf__penalty=l2, tvec__analyzer=char, tvec__max_features=None, tvec__ngram_range=(3, 3), tvec__stop_words=english, tvec__use_idf=False, score=0.87125, total=  11.0s\n",
      "[CV] clf__penalty=l2, tvec__analyzer=char, tvec__max_features=None, tvec__ngram_range=(3, 3), tvec__stop_words=english, tvec__use_idf=False \n",
      "[CV]  clf__penalty=l2, tvec__analyzer=char, tvec__max_features=None, tvec__ngram_range=(3, 3), tvec__stop_words=english, tvec__use_idf=False, score=0.86225, total=   9.2s\n",
      "[CV] clf__penalty=l2, tvec__analyzer=char, tvec__max_features=None, tvec__ngram_range=(3, 3), tvec__stop_words=english, tvec__use_idf=False \n",
      "[CV]  clf__penalty=l2, tvec__analyzer=char, tvec__max_features=None, tvec__ngram_range=(3, 3), tvec__stop_words=english, tvec__use_idf=False, score=0.87025, total=  13.3s\n",
      "[CV] clf__penalty=l2, tvec__analyzer=char, tvec__max_features=None, tvec__ngram_range=(3, 3), tvec__stop_words=english, tvec__use_idf=False \n",
      "[CV]  clf__penalty=l2, tvec__analyzer=char, tvec__max_features=None, tvec__ngram_range=(3, 3), tvec__stop_words=english, tvec__use_idf=False, score=0.8565, total=  10.6s\n",
      "[CV] clf__penalty=l2, tvec__analyzer=char, tvec__max_features=None, tvec__ngram_range=(3, 3), tvec__stop_words=english, tvec__use_idf=False \n",
      "[CV]  clf__penalty=l2, tvec__analyzer=char, tvec__max_features=None, tvec__ngram_range=(3, 3), tvec__stop_words=english, tvec__use_idf=False, score=0.864, total=  11.5s\n",
      "[CV] clf__penalty=l2, tvec__analyzer=char, tvec__max_features=None, tvec__ngram_range=(3, 3), tvec__stop_words=None, tvec__use_idf=True \n",
      "[CV]  clf__penalty=l2, tvec__analyzer=char, tvec__max_features=None, tvec__ngram_range=(3, 3), tvec__stop_words=None, tvec__use_idf=True, score=0.86, total=  11.9s\n",
      "[CV] clf__penalty=l2, tvec__analyzer=char, tvec__max_features=None, tvec__ngram_range=(3, 3), tvec__stop_words=None, tvec__use_idf=True \n",
      "[CV]  clf__penalty=l2, tvec__analyzer=char, tvec__max_features=None, tvec__ngram_range=(3, 3), tvec__stop_words=None, tvec__use_idf=True, score=0.8475, total=  12.4s\n",
      "[CV] clf__penalty=l2, tvec__analyzer=char, tvec__max_features=None, tvec__ngram_range=(3, 3), tvec__stop_words=None, tvec__use_idf=True \n",
      "[CV]  clf__penalty=l2, tvec__analyzer=char, tvec__max_features=None, tvec__ngram_range=(3, 3), tvec__stop_words=None, tvec__use_idf=True, score=0.85075, total=  11.8s\n",
      "[CV] clf__penalty=l2, tvec__analyzer=char, tvec__max_features=None, tvec__ngram_range=(3, 3), tvec__stop_words=None, tvec__use_idf=True \n",
      "[CV]  clf__penalty=l2, tvec__analyzer=char, tvec__max_features=None, tvec__ngram_range=(3, 3), tvec__stop_words=None, tvec__use_idf=True, score=0.857, total=  13.8s\n",
      "[CV] clf__penalty=l2, tvec__analyzer=char, tvec__max_features=None, tvec__ngram_range=(3, 3), tvec__stop_words=None, tvec__use_idf=True \n",
      "[CV]  clf__penalty=l2, tvec__analyzer=char, tvec__max_features=None, tvec__ngram_range=(3, 3), tvec__stop_words=None, tvec__use_idf=True, score=0.85075, total=  12.6s\n",
      "[CV] clf__penalty=l2, tvec__analyzer=char, tvec__max_features=None, tvec__ngram_range=(3, 3), tvec__stop_words=None, tvec__use_idf=False \n",
      "[CV]  clf__penalty=l2, tvec__analyzer=char, tvec__max_features=None, tvec__ngram_range=(3, 3), tvec__stop_words=None, tvec__use_idf=False, score=0.87125, total=  11.0s\n",
      "[CV] clf__penalty=l2, tvec__analyzer=char, tvec__max_features=None, tvec__ngram_range=(3, 3), tvec__stop_words=None, tvec__use_idf=False \n",
      "[CV]  clf__penalty=l2, tvec__analyzer=char, tvec__max_features=None, tvec__ngram_range=(3, 3), tvec__stop_words=None, tvec__use_idf=False, score=0.86225, total=   9.1s\n",
      "[CV] clf__penalty=l2, tvec__analyzer=char, tvec__max_features=None, tvec__ngram_range=(3, 3), tvec__stop_words=None, tvec__use_idf=False \n",
      "[CV]  clf__penalty=l2, tvec__analyzer=char, tvec__max_features=None, tvec__ngram_range=(3, 3), tvec__stop_words=None, tvec__use_idf=False, score=0.87025, total=  10.5s\n",
      "[CV] clf__penalty=l2, tvec__analyzer=char, tvec__max_features=None, tvec__ngram_range=(3, 3), tvec__stop_words=None, tvec__use_idf=False \n",
      "[CV]  clf__penalty=l2, tvec__analyzer=char, tvec__max_features=None, tvec__ngram_range=(3, 3), tvec__stop_words=None, tvec__use_idf=False, score=0.8565, total=  10.6s\n",
      "[CV] clf__penalty=l2, tvec__analyzer=char, tvec__max_features=None, tvec__ngram_range=(3, 3), tvec__stop_words=None, tvec__use_idf=False \n",
      "[CV]  clf__penalty=l2, tvec__analyzer=char, tvec__max_features=None, tvec__ngram_range=(3, 3), tvec__stop_words=None, tvec__use_idf=False, score=0.864, total=  11.3s\n"
     ]
    },
    {
     "name": "stderr",
     "output_type": "stream",
     "text": [
      "[Parallel(n_jobs=1)]: Done 160 out of 160 | elapsed: 25.8min finished\n"
     ]
    },
    {
     "name": "stdout",
     "output_type": "stream",
     "text": [
      "{'clf__penalty': 'l2', 'tvec__analyzer': 'word', 'tvec__max_features': None, 'tvec__ngram_range': (1, 1), 'tvec__stop_words': None, 'tvec__use_idf': False}\n",
      "0.8765\n"
     ]
    }
   ],
   "source": [
    "param_grid = [{'tvec__ngram_range': [(1,1), (3,3)],\n",
    "                'tvec__stop_words': ['english', None],\n",
    "                'tvec__max_features': [500, None],\n",
    "                'tvec__use_idf': [True, False],\n",
    "                'tvec__analyzer': ['word', 'char'],\n",
    "                'clf__penalty': ['l2']}]\n",
    "\n",
    "tvec = TfidfVectorizer(strip_accents='unicode', norm=None)\n",
    "\n",
    "pipeline = Pipeline([('DCE1', ItemSelector('textPro')), ('tvec', tvec),\n",
    "                    ('clf', LogisticRegression())])\n",
    "\n",
    "grid_cv = GridSearchCV(pipeline, param_grid, scoring='accuracy', cv=5, verbose=5)\n",
    "grid_cv.fit(df_train, y_train)\n",
    "\n",
    "print(grid_cv.best_params_)\n",
    "print(grid_cv.best_score_)"
   ]
  },
  {
   "cell_type": "code",
   "execution_count": 14,
   "metadata": {},
   "outputs": [
    {
     "name": "stdout",
     "output_type": "stream",
     "text": [
      "Fitting 5 folds for each of 20 candidates, totalling 100 fits\n"
     ]
    },
    {
     "name": "stderr",
     "output_type": "stream",
     "text": [
      "[Parallel(n_jobs=1)]: Done 100 out of 100 | elapsed:  9.4min finished\n"
     ]
    },
    {
     "name": "stdout",
     "output_type": "stream",
     "text": [
      "{'alpha': 0.00023357214690901214}\n",
      "-0.362903611002\n"
     ]
    }
   ],
   "source": [
    "tvec = TfidfVectorizer(strip_accents='unicode', analyzer='word', ngram_range=(1,1),\n",
    "                       max_features=None, norm=None, stop_words=None, use_idf=False)\n",
    "\n",
    "X_train = tvec.fit_transform(df_train['textPro'])\n",
    "X_test = tvec.transform(df_test['textPro'])\n",
    "\n",
    "param_grid = [{'alpha': 10**np.linspace(-6, -1, 20)}]\n",
    "grid_cv = GridSearchCV(SGDClassifier(loss='log', penalty='l2', max_iter=1000),\n",
    "                                    param_grid, scoring='neg_log_loss', cv=5, verbose=1)\n",
    "grid_cv.fit(X_train, y_train)\n",
    "\n",
    "print(grid_cv.best_params_)\n",
    "print(grid_cv.best_score_)"
   ]
  },
  {
   "cell_type": "code",
   "execution_count": 15,
   "metadata": {},
   "outputs": [
    {
     "data": {
      "image/png": "[encoded data removed]",
      "text/plain": [
       "<matplotlib.figure.Figure at 0x10eb54e80>"
      ]
     },
     "metadata": {},
     "output_type": "display_data"
    }
   ],
   "source": [
    "import matplotlib.pyplot as mp\n",
    "\n",
    "predict = grid_cv.predict(X_test)\n",
    "cm = confusion_matrix(y_test, predict).T\n",
    "cm = cm.astype('float')/cm.sum(axis=0)\n",
    "\n",
    "fig, ax = mp.subplots()\n",
    "sns.heatmap(cm, annot=True, cmap='Blues');\n",
    "ax.set_xlabel('True Label')\n",
    "ax.set_ylabel('Predicted Label')\n",
    "ax.xaxis.set_label_position('top')\n",
    "mp.show()"
   ]
  },
  {
   "cell_type": "code",
   "execution_count": 16,
   "metadata": {},
   "outputs": [
    {
     "data": {
      "image/png": "[encoded data removed]",
      "text/plain": [
       "<matplotlib.figure.Figure at 0x107853630>"
      ]
     },
     "metadata": {},
     "output_type": "display_data"
    }
   ],
   "source": [
    "fpr, tpr, thresholds = roc_curve(y_test, grid_cv.predict_proba(X_test)[:,1])\n",
    "roc_auc = roc_auc_score(y_test, predict)\n",
    "\n",
    "mp.plot(fpr, tpr, lw=1, label='AUC = %0.2f'%(roc_auc))\n",
    "mp.plot([0, 1], [0, 1], '--k', lw=0.5)\n",
    "mp.xlabel('False Positive Rate')\n",
    "mp.ylabel('True Positive Rate')\n",
    "mp.legend(loc=\"lower right\", frameon = True).get_frame().set_edgecolor('black')\n",
    "mp.show()"
   ]
  },
  {
   "cell_type": "code",
   "execution_count": 17,
   "metadata": {},
   "outputs": [
    {
     "data": {
      "image/png": "[encoded data removed]",
      "text/plain": [
       "<matplotlib.figure.Figure at 0x12213af28>"
      ]
     },
     "metadata": {},
     "output_type": "display_data"
    }
   ],
   "source": [
    "precision, recall, thresholds = precision_recall_curve(y_test, grid_cv.predict_proba(X_test)[:,1])\n",
    "\n",
    "auc(recall, precision)\n",
    "\n",
    "mp.plot(recall, precision, lw=0.5, label='AUC = %0.2f'%(roc_auc))\n",
    "mp.xlabel('recall')\n",
    "mp.ylabel('precision')\n",
    "mp.legend(loc=\"lower right\", frameon = True).get_frame().set_edgecolor('black')\n",
    "mp.show()"
   ]
  },
  {
   "cell_type": "code",
   "execution_count": 18,
   "metadata": {},
   "outputs": [
    {
     "data": {
      "text/plain": [
       "TfidfVectorizer(analyzer='word', binary=False, decode_error='strict',\n",
       "        dtype=<class 'numpy.int64'>, encoding='utf-8', input='content',\n",
       "        lowercase=True, max_df=1.0, max_features=None, min_df=1,\n",
       "        ngram_range=(1, 1), norm=None, preprocessor=None, smooth_idf=True,\n",
       "        stop_words=None, strip_accents='unicode', sublinear_tf=False,\n",
       "        token_pattern='(?u)\\\\b\\\\w\\\\w+\\\\b', tokenizer=None, use_idf=False,\n",
       "        vocabulary=None)"
      ]
     },
     "execution_count": 18,
     "metadata": {},
     "output_type": "execute_result"
    }
   ],
   "source": [
    "tvec"
   ]
  },
  {
   "cell_type": "code",
   "execution_count": 19,
   "metadata": {},
   "outputs": [
    {
     "data": {
      "text/plain": [
       "SGDClassifier(alpha=0.00023357214690901214, average=False, class_weight=None,\n",
       "       epsilon=0.1, eta0=0.0, fit_intercept=True, l1_ratio=0.15,\n",
       "       learning_rate='optimal', loss='log', max_iter=1000, n_iter=None,\n",
       "       n_jobs=1, penalty='l2', power_t=0.5, random_state=None,\n",
       "       shuffle=True, tol=None, verbose=0, warm_start=False)"
      ]
     },
     "execution_count": 19,
     "metadata": {},
     "output_type": "execute_result"
    }
   ],
   "source": [
    "model = SGDClassifier(alpha=0.00023357214690901214, loss='log', penalty='l2', max_iter=1000)\n",
    "model.fit(X_train, y_train)"
   ]
  },
  {
   "cell_type": "code",
   "execution_count": 20,
   "metadata": {
    "collapsed": true
   },
   "outputs": [],
   "source": [
    "dest = '/Users/degravek/DataScience/SafeSocial/application/pkl_objects_8172017/'\n",
    "\n",
    "cPickle.dump(model, open(os.path.join(dest, 'model_insult.pkl'), 'wb'), protocol=None)\n",
    "cPickle.dump(tvec, open(os.path.join(dest, 'tvec_insult.pkl'), 'wb'), protocol=None)"
   ]
  },
  {
   "cell_type": "code",
   "execution_count": 21,
   "metadata": {},
   "outputs": [
    {
     "data": {
      "text/plain": [
       "array([[ 0.34814173,  0.65185827]])"
      ]
     },
     "execution_count": 21,
     "metadata": {},
     "output_type": "execute_result"
    }
   ],
   "source": [
    "text = \"@realDonaldTrump You are actually a disgusting excuse of a President and we would love to have @BarackObama back, also you have tiny hands\"\n",
    "\n",
    "dnew = pd.DataFrame([text], columns=['comment'])\n",
    "#dnew['numExcQue'] = dnew['comment'].apply(numExcQue)\n",
    "#dnew['ratioCaps'] = dnew['comment'].apply(ratioCaps)\n",
    "#dnew['textPro'] = dnew['comment'].apply(replaceYou)\n",
    "#dnew['textPro'] = dnew['textPro'].apply(replaceBad)\n",
    "#dnew['textPro'] = dnew['textPro'].apply(replaceCont)\n",
    "dnew['textPro'] = dnew['comment'].apply(replaceMultPunc)\n",
    "dnew['textPro'] = dnew['textPro'].apply(processTextInsult)\n",
    "\n",
    "X_test = tvec.transform(dnew['textPro'])\n",
    "\n",
    "grid_cv.predict_proba(X_test)"
   ]
  },
  {
   "cell_type": "code",
   "execution_count": 4,
   "metadata": {
    "collapsed": true
   },
   "outputs": [],
   "source": []
  }
 ],
 "metadata": {
  "kernelspec": {
   "display_name": "Python 3",
   "language": "python",
   "name": "python3"
  },
  "language_info": {
   "codemirror_mode": {
    "name": "ipython",
    "version": 3
   },
   "file_extension": ".py",
   "mimetype": "text/x-python",
   "name": "python",
   "nbconvert_exporter": "python",
   "pygments_lexer": "ipython3",
   "version": "3.6.1"
  }
 },
 "nbformat": 4,
 "nbformat_minor": 2
}
